{
 "cells": [
  {
   "cell_type": "markdown",
   "id": "5a1e26f4-0a87-4656-aad3-1c26feb69f9d",
   "metadata": {
    "tags": []
   },
   "source": [
    "# Data Science Tools and Ecosystem"
   ]
  },
  {
   "cell_type": "markdown",
   "id": "322ccc83-0dd4-4665-84ed-d0833340dcf9",
   "metadata": {},
   "source": [
    "In this notebook, Data Science Tools and Ecosystem are summarized."
   ]
  },
  {
   "cell_type": "markdown",
   "id": "92101279-e3c0-473e-b9dd-8fcd2388bac8",
   "metadata": {},
   "source": [
    "**Objectives**\n",
    "* Languages used for Data Science\n",
    "* How to create Tables with the Markdown language\n",
    "* How to do arithmetic operations"
   ]
  },
  {
   "cell_type": "markdown",
   "id": "69bd8cb3-4842-45d5-9bbf-ec3aecfe10d2",
   "metadata": {},
   "source": [
    "Some of the popular languages that Data Scientists use are:\n",
    "1. SQL\n",
    "2. Python\n",
    "3. R\n",
    "4. Julia\n",
    "5. Scala"
   ]
  },
  {
   "cell_type": "markdown",
   "id": "c1a386d7-4345-41d9-9be5-336ca09d3f9d",
   "metadata": {},
   "source": [
    "Some of the commonly used libraries used by Data Scientists include:\n",
    "1. Matplotlib\n",
    "2. Pandas\n",
    "3. Seaborn"
   ]
  },
  {
   "cell_type": "markdown",
   "id": "0aef1746-51c6-4f56-8d69-84d24e4fadde",
   "metadata": {},
   "source": [
    "| Data Science Tools |\n",
    "|--------------------|\n",
    "|     R Studio       |\n",
    "|    Jupyter lab     |\n",
    "|   Apache Hadoop    |"
   ]
  },
  {
   "cell_type": "markdown",
   "id": "ebfc3f90-dd94-410e-986b-87f68079811b",
   "metadata": {},
   "source": [
    "### Below are a few examples of evaluating arithmetic expressions in Python"
   ]
  },
  {
   "cell_type": "code",
   "execution_count": 1,
   "id": "df880f68-dfe0-45c6-9cfb-fd2e337ee0f8",
   "metadata": {
    "tags": []
   },
   "outputs": [
    {
     "data": {
      "text/plain": [
       "17"
      ]
     },
     "execution_count": 1,
     "metadata": {},
     "output_type": "execute_result"
    }
   ],
   "source": [
    "# This is a simple arithmetic expression to multiply the add integers.\n",
    "(3*4) + 5"
   ]
  },
  {
   "cell_type": "code",
   "execution_count": 3,
   "id": "ff301182-0da3-4fe6-9534-cc9dd79d906f",
   "metadata": {
    "tags": []
   },
   "outputs": [
    {
     "name": "stdout",
     "output_type": "stream",
     "text": [
      "3.3333333333333335\n"
     ]
    }
   ],
   "source": [
    "# This will convert 200 minutes to hours by dividing by 60\n",
    "hours = 200/60\n",
    "print(hours)"
   ]
  },
  {
   "cell_type": "markdown",
   "id": "dd9a8914-1f0c-440d-bd88-ed71237b7793",
   "metadata": {},
   "source": [
    "## Author\n",
    "Ulrich Dimos"
   ]
  }
 ],
 "metadata": {
  "kernelspec": {
   "display_name": "Python",
   "language": "python",
   "name": "conda-env-python-py"
  },
  "language_info": {
   "codemirror_mode": {
    "name": "ipython",
    "version": 3
   },
   "file_extension": ".py",
   "mimetype": "text/x-python",
   "name": "python",
   "nbconvert_exporter": "python",
   "pygments_lexer": "ipython3",
   "version": "3.7.12"
  }
 },
 "nbformat": 4,
 "nbformat_minor": 5
}
